{
 "cells": [
  {
   "cell_type": "code",
   "execution_count": 1,
   "metadata": {
    "collapsed": false,
    "slideshow": {
     "slide_type": "slide"
    }
   },
   "outputs": [
    {
     "data": {
      "text/plain": [
       "<pyspark.context.SparkContext at 0x7f51e3da4710>"
      ]
     },
     "execution_count": 1,
     "metadata": {},
     "output_type": "execute_result"
    }
   ],
   "source": [
    "sc"
   ]
  },
  {
   "cell_type": "code",
   "execution_count": 2,
   "metadata": {
    "collapsed": true,
    "slideshow": {
     "slide_type": "fragment"
    }
   },
   "outputs": [],
   "source": [
    "!rm -rf metastore_db/*.lck\n",
    "\n",
    "from pyspark.sql import SQLContext\n",
    "sqlc = SQLContext(sc)"
   ]
  },
  {
   "cell_type": "markdown",
   "metadata": {
    "slideshow": {
     "slide_type": "slide"
    }
   },
   "source": [
    "## Summary Statistics"
   ]
  },
  {
   "cell_type": "code",
   "execution_count": 3,
   "metadata": {
    "collapsed": true,
    "slideshow": {
     "slide_type": "fragment"
    }
   },
   "outputs": [],
   "source": [
    "from collections import namedtuple\n",
    "Record = namedtuple('Record',['desc','value1','value2'])"
   ]
  },
  {
   "cell_type": "code",
   "execution_count": 4,
   "metadata": {
    "collapsed": false,
    "slideshow": {
     "slide_type": "slide"
    }
   },
   "outputs": [],
   "source": [
    "recDF = sc.parallelize([Record(\"first\",1,3.7),\n",
    "                        Record(\"second\",-2,2.1),\n",
    "                        Record(\"third\",6,0.7)]).toDF()"
   ]
  },
  {
   "cell_type": "code",
   "execution_count": 5,
   "metadata": {
    "collapsed": false,
    "slideshow": {
     "slide_type": "fragment"
    }
   },
   "outputs": [
    {
     "name": "stdout",
     "output_type": "stream",
     "text": [
      "+-------+-----+------------------+------------------+\n",
      "|summary| desc|            value1|            value2|\n",
      "+-------+-----+------------------+------------------+\n",
      "|  count|    3|                 3|                 3|\n",
      "|   mean| null|1.6666666666666667| 2.166666666666667|\n",
      "| stddev| null| 4.041451884327381|1.5011106998930273|\n",
      "|    min|first|                -2|               0.7|\n",
      "|    max|third|                 6|               3.7|\n",
      "+-------+-----+------------------+------------------+\n",
      "\n"
     ]
    }
   ],
   "source": [
    "recStats = recDF.describe()\n",
    "recStats.show()"
   ]
  },
  {
   "cell_type": "code",
   "execution_count": 6,
   "metadata": {
    "collapsed": false,
    "slideshow": {
     "slide_type": "slide"
    }
   },
   "outputs": [
    {
     "data": {
      "text/html": [
       "<div>\n",
       "<table border=\"1\" class=\"dataframe\">\n",
       "  <thead>\n",
       "    <tr style=\"text-align: right;\">\n",
       "      <th></th>\n",
       "      <th>desc</th>\n",
       "      <th>value1</th>\n",
       "      <th>value2</th>\n",
       "    </tr>\n",
       "    <tr>\n",
       "      <th>summary</th>\n",
       "      <th></th>\n",
       "      <th></th>\n",
       "      <th></th>\n",
       "    </tr>\n",
       "  </thead>\n",
       "  <tbody>\n",
       "    <tr>\n",
       "      <th>count</th>\n",
       "      <td>3</td>\n",
       "      <td>3</td>\n",
       "      <td>3</td>\n",
       "    </tr>\n",
       "    <tr>\n",
       "      <th>mean</th>\n",
       "      <td>None</td>\n",
       "      <td>1.6666666666666667</td>\n",
       "      <td>2.166666666666667</td>\n",
       "    </tr>\n",
       "    <tr>\n",
       "      <th>stddev</th>\n",
       "      <td>None</td>\n",
       "      <td>4.041451884327381</td>\n",
       "      <td>1.5011106998930273</td>\n",
       "    </tr>\n",
       "    <tr>\n",
       "      <th>min</th>\n",
       "      <td>first</td>\n",
       "      <td>-2</td>\n",
       "      <td>0.7</td>\n",
       "    </tr>\n",
       "    <tr>\n",
       "      <th>max</th>\n",
       "      <td>third</td>\n",
       "      <td>6</td>\n",
       "      <td>3.7</td>\n",
       "    </tr>\n",
       "  </tbody>\n",
       "</table>\n",
       "</div>"
      ],
      "text/plain": [
       "          desc              value1              value2\n",
       "summary                                               \n",
       "count        3                   3                   3\n",
       "mean      None  1.6666666666666667   2.166666666666667\n",
       "stddev    None   4.041451884327381  1.5011106998930273\n",
       "min      first                  -2                 0.7\n",
       "max      third                   6                 3.7"
      ]
     },
     "execution_count": 6,
     "metadata": {},
     "output_type": "execute_result"
    }
   ],
   "source": [
    "recStatsPandas = recStats.toPandas().set_index('summary')\n",
    "recStatsPandas"
   ]
  },
  {
   "cell_type": "code",
   "execution_count": 7,
   "metadata": {
    "collapsed": false,
    "slideshow": {
     "slide_type": "fragment"
    }
   },
   "outputs": [
    {
     "data": {
      "text/plain": [
       "u'1.6666666666666667'"
      ]
     },
     "execution_count": 7,
     "metadata": {},
     "output_type": "execute_result"
    }
   ],
   "source": [
    "recStatsPandas.loc['mean'].value1"
   ]
  },
  {
   "cell_type": "code",
   "execution_count": 8,
   "metadata": {
    "collapsed": false,
    "slideshow": {
     "slide_type": "fragment"
    }
   },
   "outputs": [
    {
     "data": {
      "text/plain": [
       "-0.5879120879120878"
      ]
     },
     "execution_count": 8,
     "metadata": {},
     "output_type": "execute_result"
    }
   ],
   "source": [
    "recDF.stat.corr('value1','value2')"
   ]
  },
  {
   "cell_type": "code",
   "execution_count": 9,
   "metadata": {
    "collapsed": false,
    "slideshow": {
     "slide_type": "fragment"
    }
   },
   "outputs": [
    {
     "data": {
      "text/plain": [
       "-3.5666666666666664"
      ]
     },
     "execution_count": 9,
     "metadata": {},
     "output_type": "execute_result"
    }
   ],
   "source": [
    "recDF.stat.cov('value1','value2')"
   ]
  },
  {
   "cell_type": "code",
   "execution_count": 10,
   "metadata": {
    "collapsed": false,
    "slideshow": {
     "slide_type": "fragment"
    }
   },
   "outputs": [
    {
     "data": {
      "text/html": [
       "<div>\n",
       "<table border=\"1\" class=\"dataframe\">\n",
       "  <thead>\n",
       "    <tr style=\"text-align: right;\">\n",
       "      <th></th>\n",
       "      <th>value1_freqItems</th>\n",
       "      <th>value2_freqItems</th>\n",
       "    </tr>\n",
       "  </thead>\n",
       "  <tbody>\n",
       "    <tr>\n",
       "      <th>0</th>\n",
       "      <td>[1, -2, 6]</td>\n",
       "      <td>[0.7, 2.1, 3.7]</td>\n",
       "    </tr>\n",
       "  </tbody>\n",
       "</table>\n",
       "</div>"
      ],
      "text/plain": [
       "  value1_freqItems value2_freqItems\n",
       "0       [1, -2, 6]  [0.7, 2.1, 3.7]"
      ]
     },
     "execution_count": 10,
     "metadata": {},
     "output_type": "execute_result"
    }
   ],
   "source": [
    "recDF.stat.freqItems(['value1','value2']).toPandas()"
   ]
  },
  {
   "cell_type": "markdown",
   "metadata": {
    "slideshow": {
     "slide_type": "slide"
    }
   },
   "source": [
    "## Sampling"
   ]
  },
  {
   "cell_type": "code",
   "execution_count": 11,
   "metadata": {
    "collapsed": true,
    "slideshow": {
     "slide_type": "fragment"
    }
   },
   "outputs": [],
   "source": [
    "df = sqlc.createDataFrame([(1, 10), (1, 20), (2, 10),(2, 20), (2, 30), (3, 20), (3, 30)]).toDF(\"key\", \"value\")"
   ]
  },
  {
   "cell_type": "code",
   "execution_count": 12,
   "metadata": {
    "collapsed": false,
    "slideshow": {
     "slide_type": "fragment"
    }
   },
   "outputs": [
    {
     "name": "stdout",
     "output_type": "stream",
     "text": [
      "+---+-----+\n",
      "|key|value|\n",
      "+---+-----+\n",
      "|  1|   10|\n",
      "|  1|   20|\n",
      "|  2|   10|\n",
      "|  2|   20|\n",
      "|  2|   30|\n",
      "|  3|   20|\n",
      "|  3|   30|\n",
      "+---+-----+\n",
      "\n"
     ]
    }
   ],
   "source": [
    "df.show()"
   ]
  },
  {
   "cell_type": "code",
   "execution_count": 13,
   "metadata": {
    "collapsed": false,
    "slideshow": {
     "slide_type": "slide"
    }
   },
   "outputs": [
    {
     "name": "stdout",
     "output_type": "stream",
     "text": [
      "+---+-----+\n",
      "|key|value|\n",
      "+---+-----+\n",
      "|  1|   10|\n",
      "|  1|   20|\n",
      "|  2|   10|\n",
      "|  3|   20|\n",
      "+---+-----+\n",
      "\n"
     ]
    }
   ],
   "source": [
    "dfSampled = df.sample(withReplacement=False, fraction=0.3, seed=11)\n",
    "dfSampled.show()"
   ]
  },
  {
   "cell_type": "code",
   "execution_count": 14,
   "metadata": {
    "collapsed": true,
    "slideshow": {
     "slide_type": "slide"
    }
   },
   "outputs": [],
   "source": [
    "training, testing = df.randomSplit(weights=[0.3, 0.7], seed=11)"
   ]
  },
  {
   "cell_type": "code",
   "execution_count": 15,
   "metadata": {
    "collapsed": false,
    "slideshow": {
     "slide_type": "fragment"
    }
   },
   "outputs": [
    {
     "name": "stdout",
     "output_type": "stream",
     "text": [
      "+---+-----+\n",
      "|key|value|\n",
      "+---+-----+\n",
      "|  1|   10|\n",
      "|  1|   20|\n",
      "|  2|   10|\n",
      "|  3|   20|\n",
      "+---+-----+\n",
      "\n"
     ]
    }
   ],
   "source": [
    "training.show()"
   ]
  },
  {
   "cell_type": "code",
   "execution_count": 16,
   "metadata": {
    "collapsed": false,
    "slideshow": {
     "slide_type": "fragment"
    }
   },
   "outputs": [
    {
     "name": "stdout",
     "output_type": "stream",
     "text": [
      "+---+-----+\n",
      "|key|value|\n",
      "+---+-----+\n",
      "|  2|   20|\n",
      "|  2|   30|\n",
      "|  3|   30|\n",
      "+---+-----+\n",
      "\n"
     ]
    }
   ],
   "source": [
    "testing.show()"
   ]
  },
  {
   "cell_type": "markdown",
   "metadata": {
    "slideshow": {
     "slide_type": "slide"
    }
   },
   "source": [
    "## Stratified Sampling"
   ]
  },
  {
   "cell_type": "code",
   "execution_count": 17,
   "metadata": {
    "collapsed": false,
    "slideshow": {
     "slide_type": "fragment"
    }
   },
   "outputs": [
    {
     "name": "stdout",
     "output_type": "stream",
     "text": [
      "+---+-----+\n",
      "|key|value|\n",
      "+---+-----+\n",
      "|  1|   10|\n",
      "|  1|   20|\n",
      "|  2|   10|\n",
      "|  2|   20|\n",
      "|  3|   20|\n",
      "+---+-----+\n",
      "\n"
     ]
    }
   ],
   "source": [
    "dfStrat = df.stat.sampleBy(col=\"key\", fractions={1: 0.7, 2: 0.7, 3: 0.7}, seed=11)\n",
    "dfStrat.show()"
   ]
  },
  {
   "cell_type": "markdown",
   "metadata": {
    "slideshow": {
     "slide_type": "slide"
    }
   },
   "source": [
    "## Random Data Generation"
   ]
  },
  {
   "cell_type": "code",
   "execution_count": 18,
   "metadata": {
    "collapsed": true,
    "slideshow": {
     "slide_type": "fragment"
    }
   },
   "outputs": [],
   "source": [
    "from pyspark.sql.functions import rand, randn"
   ]
  },
  {
   "cell_type": "code",
   "execution_count": 19,
   "metadata": {
    "collapsed": true,
    "slideshow": {
     "slide_type": "fragment"
    }
   },
   "outputs": [],
   "source": [
    "df = sqlc.range(0, 5)"
   ]
  },
  {
   "cell_type": "code",
   "execution_count": 20,
   "metadata": {
    "collapsed": false,
    "slideshow": {
     "slide_type": "fragment"
    }
   },
   "outputs": [
    {
     "name": "stdout",
     "output_type": "stream",
     "text": [
      "+---+\n",
      "| id|\n",
      "+---+\n",
      "|  0|\n",
      "|  1|\n",
      "|  2|\n",
      "|  3|\n",
      "|  4|\n",
      "+---+\n",
      "\n"
     ]
    }
   ],
   "source": [
    "df.show()"
   ]
  },
  {
   "cell_type": "code",
   "execution_count": 21,
   "metadata": {
    "collapsed": true,
    "slideshow": {
     "slide_type": "slide"
    }
   },
   "outputs": [],
   "source": [
    "df2 = df.select(\"id\").withColumn(\"uniform\", rand(5)).withColumn(\"normal\", randn(5))"
   ]
  },
  {
   "cell_type": "code",
   "execution_count": 22,
   "metadata": {
    "collapsed": false,
    "slideshow": {
     "slide_type": "fragment"
    }
   },
   "outputs": [
    {
     "name": "stdout",
     "output_type": "stream",
     "text": [
      "+---+-------------------+--------------------+\n",
      "| id|            uniform|              normal|\n",
      "+---+-------------------+--------------------+\n",
      "|  0|  0.087440518337355| -0.8192086817250301|\n",
      "|  1|0.47611851579756026|-0.21311682946326227|\n",
      "|  2| 0.9147159860432812| -1.2904230199480902|\n",
      "|  3|0.06498948189958098|-0.05248092572410684|\n",
      "|  4|0.25441447150956253|-0.02962814769606...|\n",
      "+---+-------------------+--------------------+\n",
      "\n"
     ]
    }
   ],
   "source": [
    "df2.show()"
   ]
  },
  {
   "cell_type": "code",
   "execution_count": 23,
   "metadata": {
    "collapsed": false,
    "slideshow": {
     "slide_type": "slide"
    }
   },
   "outputs": [
    {
     "data": {
      "text/plain": [
       "<pyspark.context.SparkContext at 0x7f51e3da4710>"
      ]
     },
     "execution_count": 23,
     "metadata": {},
     "output_type": "execute_result"
    }
   ],
   "source": [
    "sc"
   ]
  },
  {
   "cell_type": "code",
   "execution_count": 24,
   "metadata": {
    "collapsed": true,
    "slideshow": {
     "slide_type": "fragment"
    }
   },
   "outputs": [],
   "source": [
    "!rm -rf metastore_db/*.lck\n",
    "\n",
    "from pyspark.sql import SQLContext\n",
    "sqlc = SQLContext(sc)"
   ]
  },
  {
   "cell_type": "markdown",
   "metadata": {
    "slideshow": {
     "slide_type": "slide"
    }
   },
   "source": [
    "## Using User Defined Functions"
   ]
  },
  {
   "cell_type": "code",
   "execution_count": 25,
   "metadata": {
    "collapsed": true,
    "slideshow": {
     "slide_type": "fragment"
    }
   },
   "outputs": [],
   "source": [
    "from numpy import NaN\n",
    "from pyspark.sql.functions import UserDefinedFunction\n",
    "from pyspark.sql.types import DoubleType\n",
    "\n",
    "udf1 = UserDefinedFunction(lambda x: NaN if x > 0.5 else x, DoubleType())\n",
    "udf2 = UserDefinedFunction(lambda x: NaN if x > 1.0 else x, DoubleType())"
   ]
  },
  {
   "cell_type": "code",
   "execution_count": 26,
   "metadata": {
    "collapsed": false,
    "slideshow": {
     "slide_type": "fragment"
    }
   },
   "outputs": [],
   "source": [
    "from pyspark.sql.functions import rand, randn\n",
    "\n",
    "df = sqlc.range(0, 5).withColumn(\"uniform\", rand(5)).withColumn(\"normal\", randn(5))\n",
    "\n",
    "dfnan = df.withColumn(\"nanUniform\", udf1(\"uniform\")) \\\n",
    "          .withColumn(\"nanNormal\", udf2(\"normal\")) \\\n",
    "          .drop(\"uniform\").withColumnRenamed(\"nanUniform\", \"uniform\") \\\n",
    "          .drop(\"normal\").withColumnRenamed(\"nanNormal\", \"normal\")"
   ]
  },
  {
   "cell_type": "code",
   "execution_count": 27,
   "metadata": {
    "collapsed": false,
    "slideshow": {
     "slide_type": "fragment"
    }
   },
   "outputs": [
    {
     "name": "stdout",
     "output_type": "stream",
     "text": [
      "+---+-------------------+--------------------+\n",
      "| id|            uniform|              normal|\n",
      "+---+-------------------+--------------------+\n",
      "|  0|  0.087440518337355| -0.8192086817250301|\n",
      "|  1|0.47611851579756026|-0.21311682946326227|\n",
      "|  2|                NaN| -1.2904230199480902|\n",
      "|  3|0.06498948189958098|-0.05248092572410684|\n",
      "|  4|0.25441447150956253|-0.02962814769606...|\n",
      "+---+-------------------+--------------------+\n",
      "\n"
     ]
    }
   ],
   "source": [
    "dfnan.show()"
   ]
  },
  {
   "cell_type": "markdown",
   "metadata": {
    "slideshow": {
     "slide_type": "slide"
    }
   },
   "source": [
    "## NA Functions"
   ]
  },
  {
   "cell_type": "markdown",
   "metadata": {
    "slideshow": {
     "slide_type": "fragment"
    }
   },
   "source": [
    "### Drop"
   ]
  },
  {
   "cell_type": "code",
   "execution_count": 28,
   "metadata": {
    "collapsed": false,
    "slideshow": {
     "slide_type": "fragment"
    }
   },
   "outputs": [
    {
     "name": "stdout",
     "output_type": "stream",
     "text": [
      "+---+-------------------+--------------------+\n",
      "| id|            uniform|              normal|\n",
      "+---+-------------------+--------------------+\n",
      "|  0|  0.087440518337355| -0.8192086817250301|\n",
      "|  1|0.47611851579756026|-0.21311682946326227|\n",
      "|  2|                NaN| -1.2904230199480902|\n",
      "|  3|0.06498948189958098|-0.05248092572410684|\n",
      "|  4|0.25441447150956253|-0.02962814769606...|\n",
      "+---+-------------------+--------------------+\n",
      "\n"
     ]
    }
   ],
   "source": [
    "dfnan.na.drop(how='all',subset=['uniform','normal']).show()"
   ]
  },
  {
   "cell_type": "markdown",
   "metadata": {
    "slideshow": {
     "slide_type": "slide"
    }
   },
   "source": [
    "### Replace"
   ]
  },
  {
   "cell_type": "code",
   "execution_count": 29,
   "metadata": {
    "collapsed": false,
    "slideshow": {
     "slide_type": "fragment"
    }
   },
   "outputs": [
    {
     "name": "stdout",
     "output_type": "stream",
     "text": [
      "+---+-------------------+--------------------+\n",
      "| id|            uniform|              normal|\n",
      "+---+-------------------+--------------------+\n",
      "|  0|  0.087440518337355| -0.8192086817250301|\n",
      "|  1|0.47611851579756026|-0.21311682946326227|\n",
      "|  2|                0.0| -1.2904230199480902|\n",
      "|  3|0.06498948189958098|-0.05248092572410684|\n",
      "|  4|0.25441447150956253|-0.02962814769606...|\n",
      "+---+-------------------+--------------------+\n",
      "\n"
     ]
    }
   ],
   "source": [
    "dfnan.na.replace([NaN],[0.0], 'uniform').show()"
   ]
  },
  {
   "cell_type": "markdown",
   "metadata": {
    "slideshow": {
     "slide_type": "slide"
    }
   },
   "source": [
    "### Fill"
   ]
  },
  {
   "cell_type": "code",
   "execution_count": 30,
   "metadata": {
    "collapsed": false,
    "slideshow": {
     "slide_type": "fragment"
    }
   },
   "outputs": [
    {
     "name": "stdout",
     "output_type": "stream",
     "text": [
      "+---+-------------------+--------------------+\n",
      "| id|            uniform|              normal|\n",
      "+---+-------------------+--------------------+\n",
      "|  0|  0.087440518337355| -0.8192086817250301|\n",
      "|  1|0.47611851579756026|-0.21311682946326227|\n",
      "|  2|                0.0| -1.2904230199480902|\n",
      "|  3|0.06498948189958098|-0.05248092572410684|\n",
      "|  4|0.25441447150956253|-0.02962814769606...|\n",
      "+---+-------------------+--------------------+\n",
      "\n"
     ]
    }
   ],
   "source": [
    "dfnan.na.fill({'uniform': 0.0, 'normal': 1.0}).show()"
   ]
  },
  {
   "cell_type": "code",
   "execution_count": 31,
   "metadata": {
    "collapsed": false,
    "slideshow": {
     "slide_type": "fragment"
    }
   },
   "outputs": [
    {
     "name": "stdout",
     "output_type": "stream",
     "text": [
      "+-------+-------------------+--------------------+\n",
      "|summary|            uniform|              normal|\n",
      "+-------+-------------------+--------------------+\n",
      "|  count|                  5|                   5|\n",
      "|   mean|                NaN| -0.4809715209113115|\n",
      "| stddev|                NaN|  0.5542285793533528|\n",
      "|    min|0.06498948189958098| -1.2904230199480902|\n",
      "|    max|                NaN|-0.02962814769606...|\n",
      "+-------+-------------------+--------------------+\n",
      "\n"
     ]
    }
   ],
   "source": [
    "dfsummary = dfnan.drop(\"id\").na.drop(how='all').describe()\n",
    "dfsummary.show()"
   ]
  },
  {
   "cell_type": "code",
   "execution_count": 32,
   "metadata": {
    "collapsed": false,
    "slideshow": {
     "slide_type": "slide"
    }
   },
   "outputs": [
    {
     "name": "stdout",
     "output_type": "stream",
     "text": [
      "nan\n"
     ]
    }
   ],
   "source": [
    "uniformMean = float(dfsummary.rdd.collect()[1][1])\n",
    "print uniformMean"
   ]
  },
  {
   "cell_type": "code",
   "execution_count": 33,
   "metadata": {
    "collapsed": false,
    "slideshow": {
     "slide_type": "fragment"
    }
   },
   "outputs": [
    {
     "data": {
      "text/html": [
       "<div>\n",
       "<table border=\"1\" class=\"dataframe\">\n",
       "  <thead>\n",
       "    <tr style=\"text-align: right;\">\n",
       "      <th></th>\n",
       "      <th>uniform</th>\n",
       "      <th>normal</th>\n",
       "    </tr>\n",
       "    <tr>\n",
       "      <th>summary</th>\n",
       "      <th></th>\n",
       "      <th></th>\n",
       "    </tr>\n",
       "  </thead>\n",
       "  <tbody>\n",
       "    <tr>\n",
       "      <th>count</th>\n",
       "      <td>5</td>\n",
       "      <td>5</td>\n",
       "    </tr>\n",
       "    <tr>\n",
       "      <th>mean</th>\n",
       "      <td>NaN</td>\n",
       "      <td>-0.4809715209113115</td>\n",
       "    </tr>\n",
       "    <tr>\n",
       "      <th>stddev</th>\n",
       "      <td>NaN</td>\n",
       "      <td>0.5542285793533528</td>\n",
       "    </tr>\n",
       "    <tr>\n",
       "      <th>min</th>\n",
       "      <td>0.06498948189958098</td>\n",
       "      <td>-1.2904230199480902</td>\n",
       "    </tr>\n",
       "    <tr>\n",
       "      <th>max</th>\n",
       "      <td>NaN</td>\n",
       "      <td>-0.029628147696067763</td>\n",
       "    </tr>\n",
       "  </tbody>\n",
       "</table>\n",
       "</div>"
      ],
      "text/plain": [
       "                     uniform                 normal\n",
       "summary                                            \n",
       "count                      5                      5\n",
       "mean                     NaN    -0.4809715209113115\n",
       "stddev                   NaN     0.5542285793533528\n",
       "min      0.06498948189958098    -1.2904230199480902\n",
       "max                      NaN  -0.029628147696067763"
      ]
     },
     "execution_count": 33,
     "metadata": {},
     "output_type": "execute_result"
    }
   ],
   "source": [
    "pandasSummary = dfsummary.toPandas().set_index(\"summary\")\n",
    "pandasSummary"
   ]
  },
  {
   "cell_type": "code",
   "execution_count": 34,
   "metadata": {
    "collapsed": false,
    "slideshow": {
     "slide_type": "slide"
    }
   },
   "outputs": [
    {
     "name": "stdout",
     "output_type": "stream",
     "text": [
      "nan\n"
     ]
    }
   ],
   "source": [
    "uniformMean = float(pandasSummary.loc['mean'].uniform)\n",
    "print uniformMean"
   ]
  },
  {
   "cell_type": "code",
   "execution_count": 35,
   "metadata": {
    "collapsed": false,
    "slideshow": {
     "slide_type": "fragment"
    }
   },
   "outputs": [
    {
     "name": "stdout",
     "output_type": "stream",
     "text": [
      "-0.480971520911\n"
     ]
    }
   ],
   "source": [
    "normalMean = float(pandasSummary.loc['mean'].normal)\n",
    "print normalMean"
   ]
  },
  {
   "cell_type": "code",
   "execution_count": 36,
   "metadata": {
    "collapsed": false,
    "slideshow": {
     "slide_type": "fragment"
    }
   },
   "outputs": [
    {
     "name": "stdout",
     "output_type": "stream",
     "text": [
      "+---+-------------------+--------------------+\n",
      "| id|            uniform|              normal|\n",
      "+---+-------------------+--------------------+\n",
      "|  0|  0.087440518337355| -0.8192086817250301|\n",
      "|  1|0.47611851579756026|-0.21311682946326227|\n",
      "|  2|                NaN| -1.2904230199480902|\n",
      "|  3|0.06498948189958098|-0.05248092572410684|\n",
      "|  4|0.25441447150956253|-0.02962814769606...|\n",
      "+---+-------------------+--------------------+\n",
      "\n"
     ]
    }
   ],
   "source": [
    "dfnan.na.fill({\"uniform\": uniformMean, \"normal\": normalMean}).show()"
   ]
  },
  {
   "cell_type": "markdown",
   "metadata": {
    "slideshow": {
     "slide_type": "slide"
    }
   },
   "source": [
    "## Duplicates"
   ]
  },
  {
   "cell_type": "code",
   "execution_count": 37,
   "metadata": {
    "collapsed": true,
    "slideshow": {
     "slide_type": "fragment"
    }
   },
   "outputs": [],
   "source": [
    "dfDuplicates = dfnan.union(sc.parallelize([(5,1,1),(6,1,1)]).toDF())"
   ]
  },
  {
   "cell_type": "code",
   "execution_count": 38,
   "metadata": {
    "collapsed": false,
    "slideshow": {
     "slide_type": "fragment"
    }
   },
   "outputs": [
    {
     "name": "stdout",
     "output_type": "stream",
     "text": [
      "+---+-------------------+--------------------+\n",
      "| id|            uniform|              normal|\n",
      "+---+-------------------+--------------------+\n",
      "|  0|  0.087440518337355| -0.8192086817250301|\n",
      "|  1|0.47611851579756026|-0.21311682946326227|\n",
      "|  2|                NaN| -1.2904230199480902|\n",
      "|  3|0.06498948189958098|-0.05248092572410684|\n",
      "|  4|0.25441447150956253|-0.02962814769606...|\n",
      "|  5|                1.0|                 1.0|\n",
      "|  6|                1.0|                 1.0|\n",
      "+---+-------------------+--------------------+\n",
      "\n"
     ]
    }
   ],
   "source": [
    "dfDuplicates.show()"
   ]
  },
  {
   "cell_type": "code",
   "execution_count": 39,
   "metadata": {
    "collapsed": false,
    "slideshow": {
     "slide_type": "slide"
    }
   },
   "outputs": [
    {
     "name": "stdout",
     "output_type": "stream",
     "text": [
      "+---+-------------------+--------------------+\n",
      "| id|            uniform|              normal|\n",
      "+---+-------------------+--------------------+\n",
      "|  0|  0.087440518337355| -0.8192086817250301|\n",
      "|  3|0.06498948189958098|-0.05248092572410684|\n",
      "|  2|                NaN| -1.2904230199480902|\n",
      "|  5|                1.0|                 1.0|\n",
      "|  4|0.25441447150956253|-0.02962814769606...|\n",
      "|  1|0.47611851579756026|-0.21311682946326227|\n",
      "+---+-------------------+--------------------+\n",
      "\n"
     ]
    }
   ],
   "source": [
    "dfDuplicates.dropDuplicates([\"uniform\",\"normal\"]).show()"
   ]
  },
  {
   "cell_type": "code",
   "execution_count": 40,
   "metadata": {
    "collapsed": false,
    "slideshow": {
     "slide_type": "slide"
    }
   },
   "outputs": [
    {
     "data": {
      "text/plain": [
       "<pyspark.context.SparkContext at 0x7f51e3da4710>"
      ]
     },
     "execution_count": 40,
     "metadata": {},
     "output_type": "execute_result"
    }
   ],
   "source": [
    "sc"
   ]
  },
  {
   "cell_type": "code",
   "execution_count": 41,
   "metadata": {
    "collapsed": true,
    "slideshow": {
     "slide_type": "fragment"
    }
   },
   "outputs": [],
   "source": [
    "from pyspark.sql import SQLContext\n",
    "sqlc = SQLContext(sc)"
   ]
  },
  {
   "cell_type": "markdown",
   "metadata": {
    "slideshow": {
     "slide_type": "slide"
    }
   },
   "source": [
    "## Transformers and Estimators"
   ]
  },
  {
   "cell_type": "markdown",
   "metadata": {
    "slideshow": {
     "slide_type": "fragment"
    }
   },
   "source": [
    "### Transformers - Tokenizer"
   ]
  },
  {
   "cell_type": "code",
   "execution_count": 42,
   "metadata": {
    "collapsed": true,
    "slideshow": {
     "slide_type": "fragment"
    }
   },
   "outputs": [],
   "source": [
    "from pyspark.ml.feature import Tokenizer"
   ]
  },
  {
   "cell_type": "code",
   "execution_count": 43,
   "metadata": {
    "collapsed": false,
    "slideshow": {
     "slide_type": "fragment"
    }
   },
   "outputs": [],
   "source": [
    "!rm -rf metastore_db/\n",
    "\n",
    "sentenceDataFrame = sqlc.createDataFrame([(0, \"Hi I heard about Spark\"),\n",
    "                                          (1, \"I wish Java could use case classes\"),\n",
    "                                          (2, \"Logistic,regression,models,are,neat\")]) \\\n",
    "                    .toDF(\"label\", \"sentence\")"
   ]
  },
  {
   "cell_type": "code",
   "execution_count": 44,
   "metadata": {
    "collapsed": true,
    "slideshow": {
     "slide_type": "slide"
    }
   },
   "outputs": [],
   "source": [
    "tokenizer = Tokenizer().setInputCol(\"sentence\").setOutputCol(\"words\")\n",
    "tokenized = tokenizer.transform(sentenceDataFrame)"
   ]
  },
  {
   "cell_type": "code",
   "execution_count": 45,
   "metadata": {
    "collapsed": false,
    "slideshow": {
     "slide_type": "fragment"
    }
   },
   "outputs": [
    {
     "data": {
      "text/html": [
       "<div>\n",
       "<table border=\"1\" class=\"dataframe\">\n",
       "  <thead>\n",
       "    <tr style=\"text-align: right;\">\n",
       "      <th></th>\n",
       "      <th>label</th>\n",
       "      <th>sentence</th>\n",
       "      <th>words</th>\n",
       "    </tr>\n",
       "  </thead>\n",
       "  <tbody>\n",
       "    <tr>\n",
       "      <th>0</th>\n",
       "      <td>0</td>\n",
       "      <td>Hi I heard about Spark</td>\n",
       "      <td>[hi, i, heard, about, spark]</td>\n",
       "    </tr>\n",
       "    <tr>\n",
       "      <th>1</th>\n",
       "      <td>1</td>\n",
       "      <td>I wish Java could use case classes</td>\n",
       "      <td>[i, wish, java, could, use, case, classes]</td>\n",
       "    </tr>\n",
       "    <tr>\n",
       "      <th>2</th>\n",
       "      <td>2</td>\n",
       "      <td>Logistic,regression,models,are,neat</td>\n",
       "      <td>[logistic,regression,models,are,neat]</td>\n",
       "    </tr>\n",
       "  </tbody>\n",
       "</table>\n",
       "</div>"
      ],
      "text/plain": [
       "   label                             sentence  \\\n",
       "0      0               Hi I heard about Spark   \n",
       "1      1   I wish Java could use case classes   \n",
       "2      2  Logistic,regression,models,are,neat   \n",
       "\n",
       "                                        words  \n",
       "0                [hi, i, heard, about, spark]  \n",
       "1  [i, wish, java, could, use, case, classes]  \n",
       "2       [logistic,regression,models,are,neat]  "
      ]
     },
     "execution_count": 45,
     "metadata": {},
     "output_type": "execute_result"
    }
   ],
   "source": [
    "tokenized.toPandas()"
   ]
  },
  {
   "cell_type": "markdown",
   "metadata": {
    "slideshow": {
     "slide_type": "slide"
    }
   },
   "source": [
    "### Transformers - Vector Assembler"
   ]
  },
  {
   "cell_type": "code",
   "execution_count": 46,
   "metadata": {
    "collapsed": false,
    "slideshow": {
     "slide_type": "fragment"
    }
   },
   "outputs": [],
   "source": [
    "from pyspark.sql.functions import rand, randn\n",
    "from pyspark.ml.feature import VectorAssembler\n",
    "\n",
    "dfRandom = sqlc.range(0, 10).select(\"id\") \\\n",
    "            .withColumn(\"uniform\", rand(10)) \\\n",
    "            .withColumn(\"normal1\", randn(10)) \\\n",
    "            .withColumn(\"normal2\", randn(11))"
   ]
  },
  {
   "cell_type": "code",
   "execution_count": 47,
   "metadata": {
    "collapsed": true,
    "slideshow": {
     "slide_type": "slide"
    }
   },
   "outputs": [],
   "source": [
    "assembler = VectorAssembler(inputCols = [\"uniform\",\"normal1\",\"normal2\"], outputCol = \"features\")\n",
    "\n",
    "dfVec = assembler.transform(dfRandom)"
   ]
  },
  {
   "cell_type": "code",
   "execution_count": 48,
   "metadata": {
    "collapsed": false,
    "slideshow": {
     "slide_type": "fragment"
    }
   },
   "outputs": [
    {
     "data": {
      "text/html": [
       "<div>\n",
       "<table border=\"1\" class=\"dataframe\">\n",
       "  <thead>\n",
       "    <tr style=\"text-align: right;\">\n",
       "      <th></th>\n",
       "      <th>id</th>\n",
       "      <th>features</th>\n",
       "    </tr>\n",
       "  </thead>\n",
       "  <tbody>\n",
       "    <tr>\n",
       "      <th>0</th>\n",
       "      <td>0</td>\n",
       "      <td>[0.41371264721, -0.587748239674, -0.256535324205]</td>\n",
       "    </tr>\n",
       "    <tr>\n",
       "      <th>1</th>\n",
       "      <td>1</td>\n",
       "      <td>[0.73117192819, 1.57463277597, -0.317032643347]</td>\n",
       "    </tr>\n",
       "    <tr>\n",
       "      <th>2</th>\n",
       "      <td>2</td>\n",
       "      <td>[0.198291963821, -0.256535324205, -0.506853671...</td>\n",
       "    </tr>\n",
       "    <tr>\n",
       "      <th>3</th>\n",
       "      <td>3</td>\n",
       "      <td>[0.127141811658, -0.317032643347, 1.42509038959]</td>\n",
       "    </tr>\n",
       "    <tr>\n",
       "      <th>4</th>\n",
       "      <td>4</td>\n",
       "      <td>[0.760431815341, 0.497762942531, 0.147884030486]</td>\n",
       "    </tr>\n",
       "    <tr>\n",
       "      <th>5</th>\n",
       "      <td>5</td>\n",
       "      <td>[0.120307152585, -0.506853671746, -0.141369919...</td>\n",
       "    </tr>\n",
       "    <tr>\n",
       "      <th>6</th>\n",
       "      <td>6</td>\n",
       "      <td>[0.121313639104, 1.42509038959, 0.965766508876]</td>\n",
       "    </tr>\n",
       "    <tr>\n",
       "      <th>7</th>\n",
       "      <td>7</td>\n",
       "      <td>[0.442929185213, -0.141369919356, -0.726587521...</td>\n",
       "    </tr>\n",
       "    <tr>\n",
       "      <th>8</th>\n",
       "      <td>8</td>\n",
       "      <td>[0.889878425389, 0.965766508876, 0.891697335754]</td>\n",
       "    </tr>\n",
       "    <tr>\n",
       "      <th>9</th>\n",
       "      <td>9</td>\n",
       "      <td>[0.0365070771727, -0.502100908234, -1.21126271...</td>\n",
       "    </tr>\n",
       "  </tbody>\n",
       "</table>\n",
       "</div>"
      ],
      "text/plain": [
       "   id                                           features\n",
       "0   0  [0.41371264721, -0.587748239674, -0.256535324205]\n",
       "1   1    [0.73117192819, 1.57463277597, -0.317032643347]\n",
       "2   2  [0.198291963821, -0.256535324205, -0.506853671...\n",
       "3   3   [0.127141811658, -0.317032643347, 1.42509038959]\n",
       "4   4   [0.760431815341, 0.497762942531, 0.147884030486]\n",
       "5   5  [0.120307152585, -0.506853671746, -0.141369919...\n",
       "6   6    [0.121313639104, 1.42509038959, 0.965766508876]\n",
       "7   7  [0.442929185213, -0.141369919356, -0.726587521...\n",
       "8   8   [0.889878425389, 0.965766508876, 0.891697335754]\n",
       "9   9  [0.0365070771727, -0.502100908234, -1.21126271..."
      ]
     },
     "execution_count": 48,
     "metadata": {},
     "output_type": "execute_result"
    }
   ],
   "source": [
    "dfVec.select(\"id\",\"features\").toPandas()"
   ]
  },
  {
   "cell_type": "markdown",
   "metadata": {
    "slideshow": {
     "slide_type": "slide"
    }
   },
   "source": [
    "### Estimator - Logistic Regression"
   ]
  },
  {
   "cell_type": "code",
   "execution_count": 49,
   "metadata": {
    "collapsed": true,
    "slideshow": {
     "slide_type": "fragment"
    }
   },
   "outputs": [],
   "source": [
    "from pyspark.ml.classification import LogisticRegression\n",
    "from pyspark.ml.linalg import Vectors"
   ]
  },
  {
   "cell_type": "code",
   "execution_count": 50,
   "metadata": {
    "collapsed": true,
    "slideshow": {
     "slide_type": "fragment"
    }
   },
   "outputs": [],
   "source": [
    "training = sqlc.createDataFrame([(1.0, Vectors.dense(0.0, 1.1, 0.1)),\n",
    "                                       (0.0, Vectors.dense(2.0, 1.0, -1.0)),\n",
    "                                       (0.0, Vectors.dense(2.0, 1.3, 1.0)),\n",
    "                                       (1.0, Vectors.dense(0.0, 1.2, -0.5))]) \\\n",
    "            .toDF(\"label\", \"features\")"
   ]
  },
  {
   "cell_type": "code",
   "execution_count": 51,
   "metadata": {
    "collapsed": true,
    "slideshow": {
     "slide_type": "slide"
    }
   },
   "outputs": [],
   "source": [
    "lr = LogisticRegression()"
   ]
  },
  {
   "cell_type": "code",
   "execution_count": 52,
   "metadata": {
    "collapsed": false,
    "slideshow": {
     "slide_type": "fragment"
    }
   },
   "outputs": [
    {
     "data": {
      "text/plain": [
       "LogisticRegression_48b1b2637ebee62132d1"
      ]
     },
     "execution_count": 52,
     "metadata": {},
     "output_type": "execute_result"
    }
   ],
   "source": [
    "lr.setMaxIter(10).setRegParam(0.01)"
   ]
  },
  {
   "cell_type": "code",
   "execution_count": 53,
   "metadata": {
    "collapsed": false,
    "slideshow": {
     "slide_type": "slide"
    }
   },
   "outputs": [
    {
     "data": {
      "text/plain": [
       "DenseVector([-3.1009, 2.6082, -0.3802])"
      ]
     },
     "execution_count": 53,
     "metadata": {},
     "output_type": "execute_result"
    }
   ],
   "source": [
    "model1 = lr.fit(training, {'maxIter': 10, 'regParam': 0.01})\n",
    "model1.coefficients"
   ]
  },
  {
   "cell_type": "code",
   "execution_count": 54,
   "metadata": {
    "collapsed": false,
    "slideshow": {
     "slide_type": "fragment"
    }
   },
   "outputs": [
    {
     "data": {
      "text/html": [
       "<div>\n",
       "<table border=\"1\" class=\"dataframe\">\n",
       "  <thead>\n",
       "    <tr style=\"text-align: right;\">\n",
       "      <th></th>\n",
       "      <th>label</th>\n",
       "      <th>features</th>\n",
       "      <th>rawPrediction</th>\n",
       "      <th>probability</th>\n",
       "      <th>prediction</th>\n",
       "    </tr>\n",
       "  </thead>\n",
       "  <tbody>\n",
       "    <tr>\n",
       "      <th>0</th>\n",
       "      <td>1.0</td>\n",
       "      <td>[0.0, 1.1, 0.1]</td>\n",
       "      <td>[-2.89919489464, 2.89919489464]</td>\n",
       "      <td>[0.052193376663, 0.947806623337]</td>\n",
       "      <td>1.0</td>\n",
       "    </tr>\n",
       "    <tr>\n",
       "      <th>1</th>\n",
       "      <td>0.0</td>\n",
       "      <td>[2.0, 1.0, -1.0]</td>\n",
       "      <td>[3.14530074644, -3.14530074644]</td>\n",
       "      <td>[0.95872315829, 0.04127684171]</td>\n",
       "      <td>0.0</td>\n",
       "    </tr>\n",
       "    <tr>\n",
       "      <th>2</th>\n",
       "      <td>0.0</td>\n",
       "      <td>[2.0, 1.3, 1.0]</td>\n",
       "      <td>[3.12319457003, -3.12319457003]</td>\n",
       "      <td>[0.95783942353, 0.0421605764704]</td>\n",
       "      <td>0.0</td>\n",
       "    </tr>\n",
       "    <tr>\n",
       "      <th>3</th>\n",
       "      <td>1.0</td>\n",
       "      <td>[0.0, 1.2, -0.5]</td>\n",
       "      <td>[-3.388123842, 3.388123842]</td>\n",
       "      <td>[0.0326686926626, 0.967331307337]</td>\n",
       "      <td>1.0</td>\n",
       "    </tr>\n",
       "  </tbody>\n",
       "</table>\n",
       "</div>"
      ],
      "text/plain": [
       "   label          features                    rawPrediction  \\\n",
       "0    1.0   [0.0, 1.1, 0.1]  [-2.89919489464, 2.89919489464]   \n",
       "1    0.0  [2.0, 1.0, -1.0]  [3.14530074644, -3.14530074644]   \n",
       "2    0.0   [2.0, 1.3, 1.0]  [3.12319457003, -3.12319457003]   \n",
       "3    1.0  [0.0, 1.2, -0.5]      [-3.388123842, 3.388123842]   \n",
       "\n",
       "                         probability  prediction  \n",
       "0   [0.052193376663, 0.947806623337]         1.0  \n",
       "1     [0.95872315829, 0.04127684171]         0.0  \n",
       "2   [0.95783942353, 0.0421605764704]         0.0  \n",
       "3  [0.0326686926626, 0.967331307337]         1.0  "
      ]
     },
     "execution_count": 54,
     "metadata": {},
     "output_type": "execute_result"
    }
   ],
   "source": [
    "model1.transform(training).toPandas()"
   ]
  },
  {
   "cell_type": "code",
   "execution_count": 55,
   "metadata": {
    "collapsed": false,
    "slideshow": {
     "slide_type": "slide"
    }
   },
   "outputs": [
    {
     "data": {
      "text/plain": [
       "<pyspark.context.SparkContext at 0x7f51e3da4710>"
      ]
     },
     "execution_count": 55,
     "metadata": {},
     "output_type": "execute_result"
    }
   ],
   "source": [
    "sc"
   ]
  },
  {
   "cell_type": "code",
   "execution_count": 56,
   "metadata": {
    "collapsed": true,
    "slideshow": {
     "slide_type": "fragment"
    }
   },
   "outputs": [],
   "source": [
    "!rm -rf metastore_db/*.lck\n",
    "\n",
    "from pyspark.sql import SQLContext\n",
    "sqlc = SQLContext(sc)"
   ]
  },
  {
   "cell_type": "code",
   "execution_count": 57,
   "metadata": {
    "collapsed": false,
    "slideshow": {
     "slide_type": "fragment"
    }
   },
   "outputs": [],
   "source": [
    "from pyspark.sql.functions import rand, randn\n",
    "from pyspark.ml.feature import VectorAssembler\n",
    "\n",
    "dfRandom = sqlc.range(0, 10).select(\"id\") \\\n",
    "            .withColumn(\"uniform\", rand(10)) \\\n",
    "            .withColumn(\"normal1\", randn(10)) \\\n",
    "            .withColumn(\"normal2\", randn(11))\n",
    "            \n",
    "assembler = VectorAssembler(inputCols = [\"uniform\",\"normal1\",\"normal2\"], outputCol = \"features\")\n",
    "\n",
    "dfVec = assembler.transform(dfRandom)"
   ]
  },
  {
   "cell_type": "markdown",
   "metadata": {
    "slideshow": {
     "slide_type": "slide"
    }
   },
   "source": [
    "## Data Normalization"
   ]
  },
  {
   "cell_type": "markdown",
   "metadata": {
    "slideshow": {
     "slide_type": "fragment"
    }
   },
   "source": [
    "### Normalizer"
   ]
  },
  {
   "cell_type": "code",
   "execution_count": 58,
   "metadata": {
    "collapsed": true,
    "slideshow": {
     "slide_type": "fragment"
    }
   },
   "outputs": [],
   "source": [
    "from pyspark.ml.feature import Normalizer"
   ]
  },
  {
   "cell_type": "code",
   "execution_count": 59,
   "metadata": {
    "collapsed": true,
    "slideshow": {
     "slide_type": "fragment"
    }
   },
   "outputs": [],
   "source": [
    "scaler1 = Normalizer().setInputCol(\"features\").setOutputCol(\"scaledFeat\").setP(1.0)"
   ]
  },
  {
   "cell_type": "code",
   "execution_count": 60,
   "metadata": {
    "collapsed": false,
    "slideshow": {
     "slide_type": "fragment"
    }
   },
   "outputs": [
    {
     "name": "stdout",
     "output_type": "stream",
     "text": [
      "+---+--------------------+--------------------+\n",
      "| id|            features|          scaledFeat|\n",
      "+---+--------------------+--------------------+\n",
      "|  0|[0.41371264720975...|[0.32886636983701...|\n",
      "|  1|[0.73117192818966...|[0.27877135762286...|\n",
      "|  2|[0.19829196382083...|[0.20619308493718...|\n",
      "|  3|[0.12714181165849...|[0.06801701322638...|\n",
      "|  4|[0.76043181534066...|[0.54081735791552...|\n",
      "+---+--------------------+--------------------+\n",
      "only showing top 5 rows\n",
      "\n"
     ]
    }
   ],
   "source": [
    "scaler1.transform(dfVec.select(\"id\",\"features\")).show(5)"
   ]
  },
  {
   "cell_type": "markdown",
   "metadata": {
    "slideshow": {
     "slide_type": "slide"
    }
   },
   "source": [
    "### Standard Scaler"
   ]
  },
  {
   "cell_type": "code",
   "execution_count": 61,
   "metadata": {
    "collapsed": true,
    "slideshow": {
     "slide_type": "fragment"
    }
   },
   "outputs": [],
   "source": [
    "from pyspark.ml.feature import StandardScaler"
   ]
  },
  {
   "cell_type": "code",
   "execution_count": 62,
   "metadata": {
    "collapsed": true,
    "slideshow": {
     "slide_type": "fragment"
    }
   },
   "outputs": [],
   "source": [
    "scaler2 = StandardScaler().setInputCol(\"features\").setOutputCol(\"scaledFeat\").setWithStd(True).setWithMean(True)"
   ]
  },
  {
   "cell_type": "code",
   "execution_count": 63,
   "metadata": {
    "collapsed": true,
    "slideshow": {
     "slide_type": "fragment"
    }
   },
   "outputs": [],
   "source": [
    "scaler2Model = scaler2.fit(dfVec.select(\"id\",\"features\"))"
   ]
  },
  {
   "cell_type": "code",
   "execution_count": 64,
   "metadata": {
    "collapsed": false,
    "slideshow": {
     "slide_type": "fragment"
    }
   },
   "outputs": [
    {
     "data": {
      "text/html": [
       "<div>\n",
       "<table border=\"1\" class=\"dataframe\">\n",
       "  <thead>\n",
       "    <tr style=\"text-align: right;\">\n",
       "      <th></th>\n",
       "      <th>id</th>\n",
       "      <th>features</th>\n",
       "      <th>scaledFeat</th>\n",
       "    </tr>\n",
       "  </thead>\n",
       "  <tbody>\n",
       "    <tr>\n",
       "      <th>0</th>\n",
       "      <td>0</td>\n",
       "      <td>[0.41371264721, -0.587748239674, -0.256535324205]</td>\n",
       "      <td>[0.0943617151947, -0.962057764653, -0.34138993...</td>\n",
       "    </tr>\n",
       "    <tr>\n",
       "      <th>1</th>\n",
       "      <td>1</td>\n",
       "      <td>[0.73117192819, 1.57463277597, -0.317032643347]</td>\n",
       "      <td>[1.1083042573, 1.62893863751, -0.414211116325]</td>\n",
       "    </tr>\n",
       "    <tr>\n",
       "      <th>2</th>\n",
       "      <td>2</td>\n",
       "      <td>[0.198291963821, -0.256535324205, -0.506853671...</td>\n",
       "      <td>[-0.593676746506, -0.565193629184, -0.64270042...</td>\n",
       "    </tr>\n",
       "    <tr>\n",
       "      <th>3</th>\n",
       "      <td>3</td>\n",
       "      <td>[0.127141811658, -0.317032643347, 1.42509038959]</td>\n",
       "      <td>[-0.82092531184, -0.637682397399, 1.68279834122]</td>\n",
       "    </tr>\n",
       "    <tr>\n",
       "      <th>4</th>\n",
       "      <td>4</td>\n",
       "      <td>[0.760431815341, 0.497762942531, 0.147884030486]</td>\n",
       "      <td>[1.20175827215, 0.338617531349, 0.145413343926]</td>\n",
       "    </tr>\n",
       "  </tbody>\n",
       "</table>\n",
       "</div>"
      ],
      "text/plain": [
       "   id                                           features  \\\n",
       "0   0  [0.41371264721, -0.587748239674, -0.256535324205]   \n",
       "1   1    [0.73117192819, 1.57463277597, -0.317032643347]   \n",
       "2   2  [0.198291963821, -0.256535324205, -0.506853671...   \n",
       "3   3   [0.127141811658, -0.317032643347, 1.42509038959]   \n",
       "4   4   [0.760431815341, 0.497762942531, 0.147884030486]   \n",
       "\n",
       "                                          scaledFeat  \n",
       "0  [0.0943617151947, -0.962057764653, -0.34138993...  \n",
       "1     [1.1083042573, 1.62893863751, -0.414211116325]  \n",
       "2  [-0.593676746506, -0.565193629184, -0.64270042...  \n",
       "3   [-0.82092531184, -0.637682397399, 1.68279834122]  \n",
       "4    [1.20175827215, 0.338617531349, 0.145413343926]  "
      ]
     },
     "execution_count": 64,
     "metadata": {},
     "output_type": "execute_result"
    }
   ],
   "source": [
    "scaler2Model.transform(dfVec.select(\"id\",\"features\")).toPandas()[:5]"
   ]
  },
  {
   "cell_type": "markdown",
   "metadata": {
    "slideshow": {
     "slide_type": "slide"
    }
   },
   "source": [
    "### MinMax Scaler"
   ]
  },
  {
   "cell_type": "code",
   "execution_count": 65,
   "metadata": {
    "collapsed": true,
    "slideshow": {
     "slide_type": "fragment"
    }
   },
   "outputs": [],
   "source": [
    "from pyspark.ml.feature import MinMaxScaler"
   ]
  },
  {
   "cell_type": "code",
   "execution_count": 66,
   "metadata": {
    "collapsed": true,
    "slideshow": {
     "slide_type": "fragment"
    }
   },
   "outputs": [],
   "source": [
    "scaler3 = MinMaxScaler().setInputCol(\"features\").setOutputCol(\"scaledFeat\").setMin(-1.0).setMax(1.0)"
   ]
  },
  {
   "cell_type": "code",
   "execution_count": 67,
   "metadata": {
    "collapsed": true,
    "slideshow": {
     "slide_type": "fragment"
    }
   },
   "outputs": [],
   "source": [
    "scaler3Model = scaler3.fit(dfVec.select(\"id\",\"features\"))"
   ]
  },
  {
   "cell_type": "code",
   "execution_count": 68,
   "metadata": {
    "collapsed": false,
    "slideshow": {
     "slide_type": "fragment"
    }
   },
   "outputs": [
    {
     "data": {
      "text/html": [
       "<div>\n",
       "<table border=\"1\" class=\"dataframe\">\n",
       "  <thead>\n",
       "    <tr style=\"text-align: right;\">\n",
       "      <th></th>\n",
       "      <th>id</th>\n",
       "      <th>features</th>\n",
       "      <th>scaledFeat</th>\n",
       "    </tr>\n",
       "  </thead>\n",
       "  <tbody>\n",
       "    <tr>\n",
       "      <th>0</th>\n",
       "      <td>0</td>\n",
       "      <td>[0.41371264721, -0.587748239674, -0.256535324205]</td>\n",
       "      <td>[-0.115963827879, -1.0, -0.275721153]</td>\n",
       "    </tr>\n",
       "    <tr>\n",
       "      <th>1</th>\n",
       "      <td>1</td>\n",
       "      <td>[0.73117192819, 1.57463277597, -0.317032643347]</td>\n",
       "      <td>[0.628048217155, 1.0, -0.321615854237]</td>\n",
       "    </tr>\n",
       "    <tr>\n",
       "      <th>2</th>\n",
       "      <td>2</td>\n",
       "      <td>[0.198291963821, -0.256535324205, -0.506853671...</td>\n",
       "      <td>[-0.620833563287, -0.693659060941, -0.46561858...</td>\n",
       "    </tr>\n",
       "    <tr>\n",
       "      <th>3</th>\n",
       "      <td>3</td>\n",
       "      <td>[0.127141811658, -0.317032643347, 1.42509038959]</td>\n",
       "      <td>[-0.78758430389, -0.749613417461, 1.0]</td>\n",
       "    </tr>\n",
       "    <tr>\n",
       "      <th>4</th>\n",
       "      <td>4</td>\n",
       "      <td>[0.760431815341, 0.497762942531, 0.147884030486]</td>\n",
       "      <td>[0.696623022747, 0.00399621930629, 0.031080961...</td>\n",
       "    </tr>\n",
       "  </tbody>\n",
       "</table>\n",
       "</div>"
      ],
      "text/plain": [
       "   id                                           features  \\\n",
       "0   0  [0.41371264721, -0.587748239674, -0.256535324205]   \n",
       "1   1    [0.73117192819, 1.57463277597, -0.317032643347]   \n",
       "2   2  [0.198291963821, -0.256535324205, -0.506853671...   \n",
       "3   3   [0.127141811658, -0.317032643347, 1.42509038959]   \n",
       "4   4   [0.760431815341, 0.497762942531, 0.147884030486]   \n",
       "\n",
       "                                          scaledFeat  \n",
       "0              [-0.115963827879, -1.0, -0.275721153]  \n",
       "1             [0.628048217155, 1.0, -0.321615854237]  \n",
       "2  [-0.620833563287, -0.693659060941, -0.46561858...  \n",
       "3             [-0.78758430389, -0.749613417461, 1.0]  \n",
       "4  [0.696623022747, 0.00399621930629, 0.031080961...  "
      ]
     },
     "execution_count": 68,
     "metadata": {},
     "output_type": "execute_result"
    }
   ],
   "source": [
    "scaler3Model.transform(dfVec.select(\"id\",\"features\")).toPandas()[:5]"
   ]
  }
 ],
 "metadata": {
  "celltoolbar": "Slideshow",
  "kernelspec": {
   "display_name": "Python 2",
   "language": "python",
   "name": "python2"
  },
  "language_info": {
   "codemirror_mode": {
    "name": "ipython",
    "version": 2
   },
   "file_extension": ".py",
   "mimetype": "text/x-python",
   "name": "python",
   "nbconvert_exporter": "python",
   "pygments_lexer": "ipython2",
   "version": "2.7.13"
  }
 },
 "nbformat": 4,
 "nbformat_minor": 0
}
